{
 "cells": [
  {
   "cell_type": "code",
   "execution_count": null,
   "id": "9073c442",
   "metadata": {},
   "outputs": [],
   "source": [
    "import selenium\n",
    "import pandas as pd\n",
    "from selenium import webdriver\n",
    "import warnings\n",
    "warnings.filterwarnings('ignore')\n",
    "from selenium.common.exceptions import StaleElementReferenceException, NoSuchElementException\n",
    "import re\n",
    "from selenium.webdriver.common.by import By\n",
    "\n",
    "import time\n",
    "from selenium.webdriver.common.by import By\n",
    "from selenium.webdriver.support.ui import WebDriverWait\n",
    "from selenium.webdriver.support import expected_conditions as EC\n"
   ]
  },
  {
   "cell_type": "markdown",
   "id": "2c4ef4c5",
   "metadata": {},
   "source": [
    "Write a python program which searches all the product under a particular product from www.amazon.in. \n",
    "The product to be searched will be taken as input from user. For e.g. If user input is ‘guitar’. Then search \n",
    "for guitar"
   ]
  },
  {
   "cell_type": "code",
   "execution_count": null,
   "id": "54c097dd",
   "metadata": {},
   "outputs": [],
   "source": [
    "driver=webdriver.Chrome(r\"C:\\Users\\User\\Downloads\\chromedriver_win32\\chromedriver.exe\")\n",
    "driver.get(\"https://www.amazon.in/\")\n",
    "\n"
   ]
  },
  {
   "cell_type": "code",
   "execution_count": null,
   "id": "dac408ca",
   "metadata": {},
   "outputs": [],
   "source": [
    "product=driver.find_element(By.XPATH,\"/html/body/div[1]/header/div/div[1]/div[2]/div/form/div[2]/div[1]/input\")\n",
    "product.send_keys('mobile')"
   ]
  },
  {
   "cell_type": "code",
   "execution_count": null,
   "id": "0ed8e33d",
   "metadata": {},
   "outputs": [],
   "source": [
    "a=input('Enter the product to be searched')\n",
    "search_bar.send_keys(product)"
   ]
  },
  {
   "cell_type": "markdown",
   "id": "d312150d",
   "metadata": {},
   "source": [
    "In the above question, now scrape the following details of each product listed in first 3 pages of your \n",
    "search results and save it in a data frame and csv. In case if any product has less than 3 pages in search \n",
    "results then scrape all the products available under that product name. Details to be scraped are: \"Brand \n",
    "Name\", \"Name of the Product\", \"Price\", \"Return/Exchange\", \"Expected Delivery\", \"Availability\" and \n",
    "“Product URL”. In case, if any of the details are missing for any of the product then replace it by “-“"
   ]
  },
  {
   "cell_type": "code",
   "execution_count": null,
   "id": "f316ddd3",
   "metadata": {},
   "outputs": [],
   "source": [
    "search=driver.find_element(By.XPATH,'//div[@class=\"nav-search-submit nav-sprite\"]')\n",
    "search.click()\n",
    "time.sleep(4)"
   ]
  },
  {
   "cell_type": "code",
   "execution_count": null,
   "id": "94f4ea3c",
   "metadata": {},
   "outputs": [],
   "source": [
    "brand=driver.find_element(By.XPATH,'//span[@class=\"a-size-medium a-color-base a-text-normal\"]')\n",
    "\n",
    "brand.send_keys(\"Brand\")"
   ]
  },
  {
   "cell_type": "code",
   "execution_count": null,
   "id": "ed1d5b34",
   "metadata": {},
   "outputs": [],
   "source": [
    "brand_titlles=[]\n",
    "start=0\n",
    "end=3\n",
    "for page in range(start,end):\n",
    "    brand=driver.find_element(By.XPATH,'/html/body/div[1]/div[2]/div[1]/div[1]/div/span[1]/div[1]/div[3]/div/div/div/div/div/div/div/div[2]/div/div/div[1]/h2/a/span')\n",
    "    for i in brand:\n",
    "        brand_title.append(i.text)\n",
    "    next_button=driver.find_elements(By.XPATH,'/html/body/div[1]/div[2]/div[1]/div[1]/div/span[1]/div[1]/div[28]/div/div/span/a[3]')\n",
    "    next_button.click()\n",
    "    time.sleep(3)\n",
    "    "
   ]
  },
  {
   "cell_type": "code",
   "execution_count": null,
   "id": "c763994f",
   "metadata": {},
   "outputs": [],
   "source": [
    "\n",
    "\n",
    "price_titlles=[]\n",
    "start=0\n",
    "end=3\n",
    "for page in range(start,end):\n",
    "    price=driver.find_element(By.XPATH,'//span[@aria-hidden=\"true\"]')\n",
    "    for i in price:\n",
    "        price_title.append(i.text)\n",
    "    next_button=driver.find_elements(By.XPATH,'/html/body/div[1]/div[2]/div[1]/div[1]/div/span[1]/div[1]/div[28]/div/div/span/a[3]')\n",
    "    next_button.click()\n",
    "    time.sleep(3)"
   ]
  },
  {
   "cell_type": "code",
   "execution_count": null,
   "id": "a7f93c98",
   "metadata": {},
   "outputs": [],
   "source": [
    "\n",
    "ret_titlles=[]\n",
    "start=0\n",
    "end=3\n",
    "for page in range(start,end):\n",
    "    return=driver.find_element(By.XPATH,'/html/body/div[2]/div[2]/div[5]/div[4]/div[4]/div[21]/div[2]/div/div/div/div[3]/span/div[2]/a')\n",
    "    for i in return:\n",
    "        ret_title.append(i.text)\n",
    "    next_button=driver.find_elements(By.XPATH,'/html/body/div[1]/div[2]/div[1]/div[1]/div/span[1]/div[1]/div[28]/div/div/span/a[3]')\n",
    "    next_button.click()\n",
    "    time.sleep(3)"
   ]
  },
  {
   "cell_type": "markdown",
   "id": "dfb3493b",
   "metadata": {},
   "source": [
    "Write a python program to access the search bar and search button on images.google.com and scrape 10\n",
    "images each for keywords ‘fruits’, ‘cars’ and ‘Machine Learning’, ‘Guitar’, ‘Cakes’"
   ]
  },
  {
   "cell_type": "code",
   "execution_count": null,
   "id": "277f3b66",
   "metadata": {},
   "outputs": [],
   "source": [
    "driver=webdriver.Chrome(r\"C:\\Users\\User\\Downloads\\chromedriver_win32\\chromedriver.exe\")\n",
    "driver.get(\"https://images.google.com/\")"
   ]
  },
  {
   "cell_type": "code",
   "execution_count": null,
   "id": "2eb2bb4a",
   "metadata": {},
   "outputs": [],
   "source": [
    "fruit=driver.find_element(By.XPATH,'//input[@class=\"gLFyf gsfi\"]')\n",
    "fruit.send_keys(\"fruits\")"
   ]
  },
  {
   "cell_type": "code",
   "execution_count": null,
   "id": "6484fd6b",
   "metadata": {},
   "outputs": [],
   "source": [
    "fruit_im=[]\n",
    "title_tags=driver.find_elements(By.XPATH,'//div[@class=\" bRMDJf islir\"]')\n",
    "for i in title_tags[0:10]:\n",
    "    \n",
    "    fruit_im.append(i.get_attribute('href'))"
   ]
  },
  {
   "cell_type": "code",
   "execution_count": null,
   "id": "505688c6",
   "metadata": {},
   "outputs": [],
   "source": [
    "\n",
    "cars=[]\n",
    "\n",
    "title_tags=driver.find_elements(By.XPATH,'//span[@class=\"OztcRd \"]')\n",
    "for i in title_tags[0:10]:\n",
    "    \n",
    "    cars.append(i.get_attribute('href'))"
   ]
  },
  {
   "cell_type": "code",
   "execution_count": null,
   "id": "f9ebe6a3",
   "metadata": {},
   "outputs": [],
   "source": [
    "ML=[]\n",
    "\n",
    "title_tags=driver.find_elements(By.XPATH,'//div[@class=\" bRMDJf islir\"]')\n",
    "for i in title_tags[0:10]:\n",
    "    ML.append(i.get_attribute('href'))"
   ]
  },
  {
   "cell_type": "code",
   "execution_count": null,
   "id": "6f49a22d",
   "metadata": {},
   "outputs": [],
   "source": [
    "for i in range(1, 10):\n",
    "    img = driver.find_element_by_xpath(\n",
    "            '//div[@class=\" bRMDJf islir\"]' +\n",
    "          str(i) + '//div[@class=\" bRMDJf islir\"]')'"
   ]
  },
  {
   "cell_type": "markdown",
   "id": "98866376",
   "metadata": {},
   "source": [
    "Write a python program to search for a smartphone(e.g.: Oneplus Nord, pixel 4A, etc.) on\n",
    "www.flipkart.com and scrape following details for all the search results displayed on 1st page. Details to be \n",
    "scraped: “Brand Name”, “Smartphone name”, “Colour”, “RAM”, “Storage(ROM)”, “Primary Camera”, \n",
    "“Secondary Camera”, “Display Size”, “Battery Capacity”, “Price”, “Product URL”. Incase if any of the \n",
    "details is missing then replace it by “- “. Save your results in a dataframe and CSV."
   ]
  },
  {
   "cell_type": "code",
   "execution_count": null,
   "id": "3137cf6e",
   "metadata": {},
   "outputs": [],
   "source": [
    "driver=webdriver.Chrome(r\"C:\\Users\\User\\Downloads\\chromedriver_win32\\chromedriver.exe\")\n",
    "driver.get(\"https://www.flipkart.com\")"
   ]
  },
  {
   "cell_type": "code",
   "execution_count": null,
   "id": "4396c0ed",
   "metadata": {},
   "outputs": [],
   "source": [
    "smtph=driver.find_element(By.XPATH,'//input[@class=\"_3704LK\"]')\n",
    "smtph.send_keys(\"Smartphone\")"
   ]
  },
  {
   "cell_type": "code",
   "execution_count": null,
   "id": "5c52ba4c",
   "metadata": {},
   "outputs": [],
   "source": [
    "Smartphone_name=[]\n",
    "\n",
    "title_tags=driver.find_elements(By.XPATH,'//div[@class=\"_4rR01T\"]')\n",
    "for i in title_tags[0:10]:\n",
    "    smtph=i.text\n",
    "    Smartphone_name.append(smtph)"
   ]
  },
  {
   "cell_type": "code",
   "execution_count": null,
   "id": "eaddb53a",
   "metadata": {},
   "outputs": [],
   "source": [
    "batt=driver.find_elements(By.XPATH,'//input[@class=\"_3704LK\"]')\n",
    "batt.send_keys(\"Battery\")"
   ]
  },
  {
   "cell_type": "code",
   "execution_count": null,
   "id": "50929415",
   "metadata": {},
   "outputs": [],
   "source": [
    "battery=[]\n",
    "\n",
    "title_tags=driver.find_elements(By.XPATH,'//li[@class=\"rgWa7D\"]')\n",
    "for i in title_tags[0:10]:\n",
    "    batt=i.text\n",
    "    battery.append(batt)"
   ]
  },
  {
   "cell_type": "code",
   "execution_count": null,
   "id": "a4f12428",
   "metadata": {},
   "outputs": [],
   "source": [
    "cam=driver.find_elements(By.XPATH,'//li[@class=\"rgWa7D\"]')\n",
    "cam.send_keys(\"cam\")"
   ]
  },
  {
   "cell_type": "code",
   "execution_count": null,
   "id": "5d47c022",
   "metadata": {},
   "outputs": [],
   "source": [
    "camera=[]\n",
    "\n",
    "title_tags=driver.find_elements(By.XPATH,'//li[@class=\"rgWa7D\"]')\n",
    "for i in title_tags[0:10]:\n",
    "    cam=i.text\n",
    "    camera.append(cam)"
   ]
  },
  {
   "cell_type": "code",
   "execution_count": null,
   "id": "58412627",
   "metadata": {},
   "outputs": [],
   "source": [
    "dis=driver.find_elements(By.XPATH,'//li[@class=\"rgWa7D\"]')\n",
    "dis.send_keys(\"dis\")"
   ]
  },
  {
   "cell_type": "code",
   "execution_count": null,
   "id": "380845bd",
   "metadata": {},
   "outputs": [],
   "source": [
    "display=[]\n",
    "\n",
    "title_tags=driver.find_elements(By.XPATH,'//li[@class=\"rgWa7D\"]')\n",
    "for i in title_tags[0:10]:\n",
    "    dis=i.text\n",
    "    display.append(dis)"
   ]
  },
  {
   "cell_type": "code",
   "execution_count": null,
   "id": "17ca45e5",
   "metadata": {},
   "outputs": [],
   "source": [
    "price=driver.find_elements(By.XPATH,'//div[@class=\"_30jeq3 _1_WHN1\"]')\n",
    "price.send_keys(price)"
   ]
  },
  {
   "cell_type": "code",
   "execution_count": null,
   "id": "b030d6ac",
   "metadata": {},
   "outputs": [],
   "source": [
    "pri=[]\n",
    "\n",
    "title_tags=driver.find_elements(By.XPATH,'//div[@class=\"_30jeq3 _1_WHN1\"]')\n",
    "for i in title_tags[0:10]:\n",
    "    price=i.text\n",
    "    pri.append(price)"
   ]
  },
  {
   "cell_type": "markdown",
   "id": "3d1123da",
   "metadata": {},
   "source": [
    " Write a program to scrap geospatial coordinates (latitude, longitude) of a city searched on google\n",
    "maps"
   ]
  },
  {
   "cell_type": "code",
   "execution_count": null,
   "id": "ac03c419",
   "metadata": {},
   "outputs": [],
   "source": [
    "driver=webdriver.Chrome(r\"C:\\Users\\User\\Downloads\\chromedriver_win32\\chromedriver.exe\")\n",
    "driver.get('https://www.google.com/maps/place/Kochi')"
   ]
  },
  {
   "cell_type": "markdown",
   "id": "ebc1971b",
   "metadata": {},
   "source": [
    "Write a program to scrap details of all the funding deals for second quarter (i.e Jan 21 – March 21) \n",
    "from trak.in."
   ]
  },
  {
   "cell_type": "code",
   "execution_count": null,
   "id": "01c3ce92",
   "metadata": {},
   "outputs": [],
   "source": [
    "driver=webdriver.Chrome(r\"C:\\Users\\User\\Downloads\\chromedriver_win32\\chromedriver.exe\")\n",
    "driver.get('https://trak.in/')"
   ]
  },
  {
   "cell_type": "code",
   "execution_count": null,
   "id": "8f720da6",
   "metadata": {},
   "outputs": [],
   "source": [
    "fd=driver.find_elements(By.XPATH,'//td[@class=\"column-7\"]')\n",
    "fd.send_key(\"Funding Deals\")"
   ]
  },
  {
   "cell_type": "markdown",
   "id": "4d287fb2",
   "metadata": {},
   "source": [
    "Write a program to scrap all the available details of best gaming laptops from digit.in."
   ]
  },
  {
   "cell_type": "code",
   "execution_count": null,
   "id": "f05eede7",
   "metadata": {},
   "outputs": [],
   "source": [
    "driver=webdriver.Chrome(r\"C:\\Users\\User\\Downloads\\chromedriver_win32\\chromedriver.exe\")\n",
    "driver.get('https://www.digit.in/')"
   ]
  },
  {
   "cell_type": "code",
   "execution_count": null,
   "id": "90845842",
   "metadata": {},
   "outputs": [],
   "source": [
    "laptop=driver.find_elements(By.XPATH,\"/html/body/div[5]/div[1]/div[3]/div[2]/div[1]/div[1]/div[1]\")\n",
    "laptop.send_keys(\"Gaming Laptop\")"
   ]
  },
  {
   "cell_type": "markdown",
   "id": "aa647e36",
   "metadata": {},
   "source": [
    "Write a python program to scrape the details for all billionaires from www.forbes.com. Details to be \n",
    "scrapped: “Rank”, “Name”, “Net worth”, “Age”, “Citizenship”, “Source”, “Industry”.\n"
   ]
  },
  {
   "cell_type": "code",
   "execution_count": null,
   "id": "4daedfcb",
   "metadata": {},
   "outputs": [],
   "source": [
    "driver=webdriver.Chrome(r\"C:\\Users\\User\\Downloads\\chromedriver_win32\\chromedriver.exe\")\n",
    "driver.get('https://www.forbes.com/')"
   ]
  },
  {
   "cell_type": "code",
   "execution_count": null,
   "id": "359668fd",
   "metadata": {},
   "outputs": [],
   "source": [
    "rank=driver.find_elements(By.XPATH,'//div[@class=\"rank\"]')\n",
    "rank.send_keys('Rank')"
   ]
  },
  {
   "cell_type": "code",
   "execution_count": null,
   "id": "10e29825",
   "metadata": {},
   "outputs": [],
   "source": [
    "Name=driver.find_elements(By.XPATH,'//div[@class=\"personName\"]')\n",
    "Name.send_keys('Name')"
   ]
  },
  {
   "cell_type": "code",
   "execution_count": null,
   "id": "11b06a27",
   "metadata": {},
   "outputs": [],
   "source": [
    "NW=driver.find_elements(By.XPATH,'/html/body/div[1]/div[1]/div/div[2]/div[3]/div[2]/div[2]/div[2]/div[1]/div[2]/div[1]/div[3]')\n",
    "NW.send_keys('NETWORTH')"
   ]
  },
  {
   "cell_type": "code",
   "execution_count": null,
   "id": "34e5bc68",
   "metadata": {},
   "outputs": [],
   "source": [
    "cz=driver.find_elements(By.XPATH,'/html/body/div[1]/div[1]/div/div[2]/div[3]/div[2]/div[2]/div[2]/div[1]/div[2]/div[1]/div[5]')\n",
    "cz.send_keys('CITIZENSHIP')"
   ]
  },
  {
   "cell_type": "code",
   "execution_count": null,
   "id": "3ebc2f77",
   "metadata": {},
   "outputs": [],
   "source": [
    "srce=driver.find_elements(By.XPATH,'/html/body/div[1]/div[1]/div/div[2]/div[3]/div[2]/div[2]/div[2]/div[1]/div[2]/div[1]/div[6]/div/div[1]/span[1]')\n",
    "srce.send_keys('SOURCE')"
   ]
  },
  {
   "cell_type": "code",
   "execution_count": null,
   "id": "1a156f4f",
   "metadata": {},
   "outputs": [],
   "source": [
    "ind=driver.find_elements(By.XPATH,'/html/body/div[1]/div[1]/div/div[2]/div[3]/div[2]/div[2]/div[1]/div/div[2]/div[7]/div[1]/div')\n",
    "ind.send_keys(\"INDUSTRY\")"
   ]
  },
  {
   "cell_type": "markdown",
   "id": "59b04f3d",
   "metadata": {},
   "source": [
    "Write a python program to scrape a data for all available Hostels from https://www.hostelworld.com/ in \n",
    "“London” location. You have to scrape hostel name, distance from city centre, ratings, total reviews, \n",
    "overall reviews, privates from price, dorms from price, facilities and property description"
   ]
  },
  {
   "cell_type": "code",
   "execution_count": null,
   "id": "c42f08a7",
   "metadata": {},
   "outputs": [],
   "source": [
    "driver=webdriver.Chrome(r\"C:\\Users\\User\\Downloads\\chromedriver_win32\\chromedriver.exe\")\n",
    "driver.get(' https://www.hostelworld.com/')"
   ]
  },
  {
   "cell_type": "code",
   "execution_count": null,
   "id": "e73ca1f0",
   "metadata": {},
   "outputs": [],
   "source": [
    "hn=driver.find_elements(By.XPATH,'/html/body/div[3]/div/div/div[2]/div[4]/div/div/div[4]/div[2]/div[1]/h2/a')\n",
    "hn.send_keys(\"Hostel\")"
   ]
  },
  {
   "cell_type": "code",
   "execution_count": null,
   "id": "b51d59eb",
   "metadata": {},
   "outputs": [],
   "source": [
    "dist=driver.find_elements(By.XPATH,'/html/body/div[3]/div/div/div[2]/div[4]/div/div/div[4]/div[2]/div[1]/div[1]/a/span[1]')\n",
    "dist.send_keys('Distance')"
   ]
  },
  {
   "cell_type": "code",
   "execution_count": null,
   "id": "686ab47f",
   "metadata": {},
   "outputs": [],
   "source": []
  }
 ],
 "metadata": {
  "kernelspec": {
   "display_name": "Python 3 (ipykernel)",
   "language": "python",
   "name": "python3"
  },
  "language_info": {
   "codemirror_mode": {
    "name": "ipython",
    "version": 3
   },
   "file_extension": ".py",
   "mimetype": "text/x-python",
   "name": "python",
   "nbconvert_exporter": "python",
   "pygments_lexer": "ipython3",
   "version": "3.9.7"
  }
 },
 "nbformat": 4,
 "nbformat_minor": 5
}
