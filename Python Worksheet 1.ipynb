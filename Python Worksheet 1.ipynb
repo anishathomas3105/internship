{
 "cells": [
  {
   "cell_type": "code",
   "execution_count": 3,
   "id": "f3d9a392",
   "metadata": {},
   "outputs": [
    {
     "name": "stdout",
     "output_type": "stream",
     "text": [
      "Enter a number:7\n",
      "Factorial of the number 7 is 5040\n"
     ]
    }
   ],
   "source": [
    "#11. Write a python program to find the factorial of a number.\n",
    "\n",
    "a=int(input('Enter a number:'))\n",
    "f=1\n",
    "\n",
    "if a<0:\n",
    "    print('Enter a positive number')\n",
    "elif a==0:\n",
    "    print('Factorial of 0 is 1')\n",
    "else:\n",
    "    for i in range (1,a+1):\n",
    "        f=f*i\n",
    "    print(\"Factorial of the number\",a,\"is\",f)"
   ]
  },
  {
   "cell_type": "code",
   "execution_count": null,
   "id": "a566b432",
   "metadata": {},
   "outputs": [],
   "source": []
  },
  {
   "cell_type": "code",
   "execution_count": 2,
   "id": "21d15aa3",
   "metadata": {},
   "outputs": [
    {
     "name": "stdout",
     "output_type": "stream",
     "text": [
      "Enter a number:11\n",
      "11 The number is a prime number\n"
     ]
    }
   ],
   "source": [
    "#12.Write a python program to find whether a number is prime or composite.\n",
    "\n",
    "num=int(input(\"Enter a number:\"))\n",
    "if (num==0 or num==1):\n",
    "    print('The given number is neither prime nor composite number')\n",
    "elif num>1:\n",
    "    for i in range(2,num):\n",
    "        if(num%2==0):\n",
    "           print(num,'The number is a composite number')\n",
    "           break\n",
    "    else:\n",
    "     print(num,'The number is a prime number')\n",
    "else:\n",
    "    print(num,\"Enter a positive number\")"
   ]
  },
  {
   "cell_type": "code",
   "execution_count": 3,
   "id": "8689c0de",
   "metadata": {},
   "outputs": [
    {
     "name": "stdout",
     "output_type": "stream",
     "text": [
      "Enter a string to check whether the given string is palindrome or not-DAD\n",
      "The string is palindrome\n"
     ]
    }
   ],
   "source": [
    "#13.Write a python program to check whether a given string is palindrome or not\n",
    "\n",
    "a=str(input(\"Enter a string to check whether the given string is palindrome or not-\"))\n",
    "a=a.casefold()\n",
    "rev=reversed(a)\n",
    "if list(a) == list(rev):\n",
    "    print(\"The string is palindrome\")\n",
    "else:\n",
    "        print(\"String is not palindrome\")\n",
    "        "
   ]
  },
  {
   "cell_type": "code",
   "execution_count": 6,
   "id": "ea683bb8",
   "metadata": {},
   "outputs": [
    {
     "name": "stdout",
     "output_type": "stream",
     "text": [
      "Enter the value of the 1st side of the triangle:4\n",
      "Enter the value of the 2nd side of the triangle:3\n",
      "the value of the 3rd side of the right angled triangle is: 5.0\n"
     ]
    }
   ],
   "source": [
    "# 14. Write a Python program to get the third side of right-angled triangle from two given sides\n",
    "# pythogoras theorem=3rd side =sq root of (a^2 * b^2)\n",
    "\n",
    "\n",
    "a=int(input('Enter the value of the 1st side of the triangle:'))\n",
    "b=int(input('Enter the value of the 2nd side of the triangle:'))\n",
    "c=(a**2)+(b**2)\n",
    "d=(round(c**(.5),2))\n",
    "print(\"the value of the 3rd side of the right angled triangle is:\",d)"
   ]
  },
  {
   "cell_type": "code",
   "execution_count": 7,
   "id": "059dbf64",
   "metadata": {},
   "outputs": [
    {
     "name": "stdout",
     "output_type": "stream",
     "text": [
      "Enter the string data:anisha\n",
      "Counter({'a': 2, 'n': 1, 'i': 1, 's': 1, 'h': 1})\n"
     ]
    }
   ],
   "source": [
    "#15. Write a python program to print the frequency of each of the characters present in a given string.\n",
    "import collections\n",
    "from collections import Counter\n",
    "\n",
    "str=input(\"Enter the string data:\")\n",
    "cou=Counter(str)\n",
    "print(cou)"
   ]
  },
  {
   "cell_type": "code",
   "execution_count": null,
   "id": "cbacb1c2",
   "metadata": {},
   "outputs": [],
   "source": []
  }
 ],
 "metadata": {
  "kernelspec": {
   "display_name": "Python 3 (ipykernel)",
   "language": "python",
   "name": "python3"
  },
  "language_info": {
   "codemirror_mode": {
    "name": "ipython",
    "version": 3
   },
   "file_extension": ".py",
   "mimetype": "text/x-python",
   "name": "python",
   "nbconvert_exporter": "python",
   "pygments_lexer": "ipython3",
   "version": "3.9.7"
  }
 },
 "nbformat": 4,
 "nbformat_minor": 5
}
