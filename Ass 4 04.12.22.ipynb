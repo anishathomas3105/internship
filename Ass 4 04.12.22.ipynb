{
 "cells": [
  {
   "cell_type": "code",
   "execution_count": 42,
   "id": "7cc08be8",
   "metadata": {},
   "outputs": [],
   "source": [
    "import sqlite3"
   ]
  },
  {
   "cell_type": "code",
   "execution_count": 43,
   "id": "dc619464",
   "metadata": {},
   "outputs": [],
   "source": [
    "db=sqlite3.connect('ERD.db')"
   ]
  },
  {
   "cell_type": "code",
   "execution_count": 44,
   "id": "50ee02fd",
   "metadata": {},
   "outputs": [],
   "source": [
    "curr=db.cursor()"
   ]
  },
  {
   "cell_type": "code",
   "execution_count": null,
   "id": "fe1b4e8f",
   "metadata": {},
   "outputs": [],
   "source": [
    "curr.execute('create table productlines(productline primary key,textDesc text,htmlDescription, image)')"
   ]
  },
  {
   "cell_type": "code",
   "execution_count": null,
   "id": "4bdd25b5",
   "metadata": {},
   "outputs": [],
   "source": [
    "curr.execute('create table products(productCode int primary key,productName text, productLine,productSale,productVendor,prodDescription,quantityinstock,buyPrice,MSRP )')"
   ]
  },
  {
   "cell_type": "code",
   "execution_count": null,
   "id": "ae084b14",
   "metadata": {},
   "outputs": [],
   "source": [
    "curr.execute('create table orderdetails(orderNumber primary key,productCode,quantityOrdered,priceEach,orderlinenumber)')"
   ]
  },
  {
   "cell_type": "code",
   "execution_count": null,
   "id": "470ab631",
   "metadata": {},
   "outputs": [],
   "source": [
    "curr.execute('create table employees(employeeNumber primary key,lastName,firstName,extension,email,officeCode,reportsTo,JobTitle)')"
   ]
  },
  {
   "cell_type": "code",
   "execution_count": null,
   "id": "a0e75b89",
   "metadata": {},
   "outputs": [],
   "source": [
    "curr.execute('create table offices(officecode primary key, city, phone, addressLine1, addressLine2, state,country,postalCode,teritory )')"
   ]
  },
  {
   "cell_type": "code",
   "execution_count": null,
   "id": "edc8fb74",
   "metadata": {},
   "outputs": [],
   "source": [
    " curr.execute('create table cutomers(cutomsernumber primary key,customerName,contactLastName,contactFirstName,phone,addressLine1,addressline2,city,state,postalCode,country,salesRepEmployeeNumber,creditLimit)')"
   ]
  },
  {
   "cell_type": "code",
   "execution_count": null,
   "id": "40ac648c",
   "metadata": {},
   "outputs": [],
   "source": [
    "curr.execute('create table orderss(orderNumber primary key,orderDate,requiredDate,shippedDate,status,comments,customerNumber)' )"
   ]
  },
  {
   "cell_type": "code",
   "execution_count": null,
   "id": "05f9091b",
   "metadata": {},
   "outputs": [],
   "source": [
    "curr.execute('create table payments(customerNumber priamry key,checkNumber,paymentdate, amount)')"
   ]
  },
  {
   "cell_type": "code",
   "execution_count": null,
   "id": "c25af5bf",
   "metadata": {},
   "outputs": [],
   "source": [
    "res=curr.execute('select avg(shippedDate)from orderss')\n",
    "res"
   ]
  },
  {
   "cell_type": "code",
   "execution_count": null,
   "id": "6c5cd5ca",
   "metadata": {},
   "outputs": [],
   "source": [
    "res=curr.execute('select avg(orderNumber)from orderss')\n",
    "res"
   ]
  },
  {
   "cell_type": "code",
   "execution_count": 19,
   "id": "cc2618db",
   "metadata": {},
   "outputs": [
    {
     "data": {
      "text/plain": [
       "<sqlite3.Cursor at 0x25d8d346730>"
      ]
     },
     "execution_count": 19,
     "metadata": {},
     "output_type": "execute_result"
    }
   ],
   "source": [
    "\n",
    "res=curr.execute('SELECT MIN(MSRP) FROM products') \n",
    "res"
   ]
  },
  {
   "cell_type": "code",
   "execution_count": 20,
   "id": "7f79d88b",
   "metadata": {},
   "outputs": [
    {
     "data": {
      "text/plain": [
       "<sqlite3.Cursor at 0x25d8d346730>"
      ]
     },
     "execution_count": 20,
     "metadata": {},
     "output_type": "execute_result"
    }
   ],
   "source": [
    "res=curr.execute('SELECT MAX(quantityinStock) FROM products') \n",
    "res"
   ]
  },
  {
   "cell_type": "code",
   "execution_count": null,
   "id": "9760c3c2",
   "metadata": {},
   "outputs": [],
   "source": [
    "res=curr.execute('SELECT * from orderdetails where max(quantityOrdered)') \n",
    "res"
   ]
  },
  {
   "cell_type": "code",
   "execution_count": null,
   "id": "c8c4f6a4",
   "metadata": {},
   "outputs": [],
   "source": [
    "res=curr.execute('SELECT * from payments where max(customerNumber)') \n",
    "res"
   ]
  },
  {
   "cell_type": "code",
   "execution_count": null,
   "id": "48c6d28c",
   "metadata": {},
   "outputs": [],
   "source": [
    "res=curr.execute('Select cutomerNumber, customerName from customers where city = 'Melbourne')\n",
    "res"
   ]
  },
  {
   "cell_type": "code",
   "execution_count": null,
   "id": "eb025cef",
   "metadata": {},
   "outputs": [],
   "source": [
    "res=curr.execute('select customerName from customers where customerName= \"N\"')\n",
    "res"
   ]
  },
  {
   "cell_type": "code",
   "execution_count": null,
   "id": "7e60b05b",
   "metadata": {},
   "outputs": [],
   "source": [
    "res=curr.execute('select customerName from customers where phone= 7 AND city==\"Las Vegas\"')\n",
    "res"
   ]
  },
  {
   "cell_type": "code",
   "execution_count": null,
   "id": "bcb18d2c",
   "metadata": {},
   "outputs": [],
   "source": [
    "res=curr.execute('select customerName from customers where creditlimit<1000 AND city==\"Las Vegas\" or city==\"Nantes\" or city==\"Stavern\"')\n",
    "res"
   ]
  },
  {
   "cell_type": "code",
   "execution_count": 36,
   "id": "3fb548ff",
   "metadata": {},
   "outputs": [
    {
     "data": {
      "text/plain": [
       "<sqlite3.Cursor at 0x25d8d346730>"
      ]
     },
     "execution_count": 36,
     "metadata": {},
     "output_type": "execute_result"
    }
   ],
   "source": [
    "\n",
    "res=curr.execute('select * from orderdetails where quantityordered<10')\n",
    "res"
   ]
  },
  {
   "cell_type": "code",
   "execution_count": null,
   "id": "83c9fea8",
   "metadata": {},
   "outputs": [],
   "source": [
    "\n",
    "res=curr.execute('select orderNumber from orderss where customerName==\"N\"')\n",
    "res"
   ]
  },
  {
   "cell_type": "code",
   "execution_count": null,
   "id": "6130f0f6",
   "metadata": {},
   "outputs": [],
   "source": [
    "res=curr.execute('select customerName from orderss where status==\"Disputed\"')\n",
    "res"
   ]
  },
  {
   "cell_type": "code",
   "execution_count": null,
   "id": "4c2586ec",
   "metadata": {},
   "outputs": [],
   "source": [
    "res=curr.execute('select customerNumber from payments where checkNumber==\"H\"')\n",
    "res"
   ]
  },
  {
   "cell_type": "code",
   "execution_count": 48,
   "id": "d90070fb",
   "metadata": {},
   "outputs": [
    {
     "data": {
      "text/plain": [
       "<sqlite3.Cursor at 0x25d8d374490>"
      ]
     },
     "execution_count": 48,
     "metadata": {},
     "output_type": "execute_result"
    }
   ],
   "source": [
    "    \n",
    "res=curr.execute('select checkNumber from payments where amount>1000')\n",
    "res "
   ]
  },
  {
   "cell_type": "code",
   "execution_count": null,
   "id": "a814f9db",
   "metadata": {},
   "outputs": [],
   "source": []
  }
 ],
 "metadata": {
  "kernelspec": {
   "display_name": "Python 3 (ipykernel)",
   "language": "python",
   "name": "python3"
  },
  "language_info": {
   "codemirror_mode": {
    "name": "ipython",
    "version": 3
   },
   "file_extension": ".py",
   "mimetype": "text/x-python",
   "name": "python",
   "nbconvert_exporter": "python",
   "pygments_lexer": "ipython3",
   "version": "3.9.7"
  }
 },
 "nbformat": 4,
 "nbformat_minor": 5
}
